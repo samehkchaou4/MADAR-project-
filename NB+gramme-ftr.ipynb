{
 "cells": [
  {
   "cell_type": "code",
   "execution_count": 17,
   "metadata": {
    "collapsed": false
   },
   "outputs": [
    {
     "name": "stdout",
     "output_type": "stream",
     "text": [
      "6. Evaluation of the performance on the test set\n",
      "Accuracy =  1.0\n",
      "              precision    recall  f1-score   support\n",
      "\n",
      "         ALE       1.00      1.00      1.00         2\n",
      "         ALG       1.00      1.00      1.00         1\n",
      "         ALX       1.00      1.00      1.00         1\n",
      "         AMM       1.00      1.00      1.00         1\n",
      "         ASW       1.00      1.00      1.00         1\n",
      "         BAG       1.00      1.00      1.00         1\n",
      "         BAS       1.00      1.00      1.00         1\n",
      "         BEI       1.00      1.00      1.00         1\n",
      "         BEN       1.00      1.00      1.00         1\n",
      "         CAI       1.00      1.00      1.00         1\n",
      "         DAM       1.00      1.00      1.00         1\n",
      "         DOH       1.00      1.00      1.00         1\n",
      "         FES       1.00      1.00      1.00         1\n",
      "         JED       1.00      1.00      1.00         1\n",
      "         JER       1.00      1.00      1.00         1\n",
      "         KHA       1.00      1.00      1.00         1\n",
      "         MOS       1.00      1.00      1.00         1\n",
      "         MSA       1.00      1.00      1.00         1\n",
      "         MUS       1.00      1.00      1.00         1\n",
      "         RAB       1.00      1.00      1.00         1\n",
      "         RIY       1.00      1.00      1.00         1\n",
      "         SAL       1.00      1.00      1.00         1\n",
      "         SAN       1.00      1.00      1.00         1\n",
      "         SFX       1.00      1.00      1.00         1\n",
      "         TRI       1.00      1.00      1.00         1\n",
      "         TUN       1.00      1.00      1.00         1\n",
      "\n",
      "   micro avg       1.00      1.00      1.00        27\n",
      "   macro avg       1.00      1.00      1.00        27\n",
      "weighted avg       1.00      1.00      1.00        27\n",
      "\n",
      "[[2 0 0 0]\n",
      " [0 1 0 0]\n",
      " [0 0 1 0]\n",
      " [0 0 0 1]]\n"
     ]
    }
   ],
   "source": [
    "from sklearn.datasets import fetch_20newsgroups\n",
    "from sklearn.datasets import load_files\n",
    "from sklearn.feature_extraction.text import CountVectorizer\n",
    "from sklearn.feature_extraction.text import TfidfTransformer\n",
    "from sklearn.naive_bayes import MultinomialNB\n",
    "from sklearn.pipeline import Pipeline\n",
    "#from sklearn.linear_model import SGDClassifier\n",
    "from sklearn import metrics\n",
    "#from sklearn.model_selection import GridSearchCV\n",
    "\n",
    "import numpy as np\n",
    "\n",
    "\n",
    "\n",
    "twenty_train = load_files('D:/CORPUS/test/', encoding = 'utf-8',decode_error='ignore')\n",
    "#twenty_train = fetch_20newsgroups(subset='train',categories=categories, shuffle=True, random_state=42)\n",
    "text_clf = Pipeline([('vect', CountVectorizer(analyzer='char', ngram_range=(3,5))),\n",
    "                     ('tfidf', TfidfTransformer()),\n",
    "                     ('clf', MultinomialNB()), ])\n",
    "text_clf.fit(twenty_train.data, twenty_train.target)\n",
    "\n",
    "print('6. Evaluation of the performance on the test set')\n",
    "twenty_test = load_files('D:/CORPUS/MADAR-Shared-Task-Subtask-1/',encoding='utf-8',decode_error='ignore')\n",
    "docs_test = twenty_test.data\n",
    "predicted = text_clf.predict(docs_test)\n",
    "print('Accuracy = ',np.mean(predicted == twenty_test.target))\n",
    "\n",
    "print(metrics.classification_report(twenty_test.target, predicted,\n",
    "     target_names=twenty_test.target_names)) \n",
    "print(metrics.confusion_matrix(twenty_test.target, predicted, labels=[0, 1, 2,3]))\n",
    "\n"
   ]
  },
  {
   "cell_type": "code",
   "execution_count": null,
   "metadata": {
    "collapsed": true
   },
   "outputs": [],
   "source": []
  }
 ],
 "metadata": {
  "kernelspec": {
   "display_name": "Python 3",
   "language": "python",
   "name": "python3"
  },
  "language_info": {
   "codemirror_mode": {
    "name": "ipython",
    "version": 3
   },
   "file_extension": ".py",
   "mimetype": "text/x-python",
   "name": "python",
   "nbconvert_exporter": "python",
   "pygments_lexer": "ipython3",
   "version": "3.6.6"
  }
 },
 "nbformat": 4,
 "nbformat_minor": 2
}
