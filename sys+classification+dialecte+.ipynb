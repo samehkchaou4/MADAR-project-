{
 "cells": [
  {
   "cell_type": "code",
   "execution_count": 45,
   "metadata": {
    "collapsed": true
   },
   "outputs": [],
   "source": [
    "from sklearn.datasets import fetch_20newsgroups\n",
    "from sklearn.datasets import load_files\n",
    "from sklearn.feature_extraction.text import CountVectorizer\n",
    "from sklearn.feature_extraction.text import TfidfTransformer\n",
    "from sklearn.naive_bayes import MultinomialNB\n",
    "from sklearn.pipeline import Pipeline\n",
    "from sklearn.linear_model import SGDClassifier\n",
    "from sklearn import metrics\n",
    "from sklearn.model_selection import GridSearchCV\n",
    "import numpy as np\n",
    "import re\n",
    "import string\n",
    "import sys"
   ]
  },
  {
   "cell_type": "code",
   "execution_count": 46,
   "metadata": {
    "collapsed": false
   },
   "outputs": [],
   "source": [
    "#phase de prétraitement \n",
    "corpus = load_files('D:/CORPUS/MADAR-Shared-Task-Subtask-1/', encoding = 'utf-8',decode_error='ignore')\n",
    "\n",
    "arabic_diacritics = re.compile(\"\"\"\n",
    "                             ّ    | \n",
    "                             َ    | \n",
    "                             ً    | \n",
    "                             ُ    | \n",
    "                             ٌ    | \n",
    "                             ِ    | \n",
    "                             ٍ    | \n",
    "                             ْ    | \n",
    "                             ـ     \n",
    "                         \"\"\", re.VERBOSE)\n",
    "arabic_punctuations = '''`÷×؛<>_()*&^%][ـ،/:\"؟.,'{}~¦+|!”…“–ـ'''\n",
    "list=[]\n",
    "\n",
    "#supprime les diactritics \n",
    "def remove_diacritics(text):\n",
    "    text = re.sub(arabic_diacritics, '', text)\n",
    "    return text\n",
    "\n",
    "#supprime les signes des ponctuations \n",
    "def remove_punctuations(text):\n",
    "    translator = str.maketrans('', '', arabic_punctuations)\n",
    "    return text.translate(translator)\n",
    "\n",
    "for data in corpus.data:\n",
    "    data = remove_diacritics(data)\n",
    "    data = remove_punctuations(data)\n",
    "    list.append(data)\n",
    "\n",
    "#Tokenizing text with scikit-learn\n",
    "count_vect = CountVectorizer()\n",
    "X_train_counts = count_vect.fit_transform(list)\n"
   ]
  },
  {
   "cell_type": "code",
   "execution_count": 47,
   "metadata": {
    "collapsed": false
   },
   "outputs": [],
   "source": [
    "#From occurrences to frequencies\n",
    "tfidf_transformer = TfidfTransformer()\n",
    "X_train_tfidf = tfidf_transformer.fit_transform(X_train_counts)\n"
   ]
  },
  {
   "cell_type": "code",
   "execution_count": 48,
   "metadata": {
    "collapsed": false
   },
   "outputs": [],
   "source": [
    "#Training a classifier\n",
    "\n",
    "clf = MultinomialNB().fit(X_train_tfidf, corpus.target)\n"
   ]
  },
  {
   "cell_type": "code",
   "execution_count": 49,
   "metadata": {
    "collapsed": false
   },
   "outputs": [
    {
     "data": {
      "text/plain": [
       "Pipeline(memory=None,\n",
       "     steps=[('vect', CountVectorizer(analyzer='word', binary=False, decode_error='strict',\n",
       "        dtype=<class 'numpy.int64'>, encoding='utf-8', input='content',\n",
       "        lowercase=True, max_df=1.0, max_features=None, min_df=1,\n",
       "        ngram_range=(1, 1), preprocessor=None, stop_words=None,\n",
       "        strip...inear_tf=False, use_idf=True)), ('clf', MultinomialNB(alpha=1.0, class_prior=None, fit_prior=True))])"
      ]
     },
     "execution_count": 49,
     "metadata": {},
     "output_type": "execute_result"
    }
   ],
   "source": [
    "Pipeline\n",
    "text_clf = Pipeline([('vect', CountVectorizer()),\n",
    "                     ('tfidf', TfidfTransformer()),\n",
    "                     ('clf', MultinomialNB()), ])\n",
    "text_clf.fit(list, corpus.target)\n"
   ]
  },
  {
   "cell_type": "code",
   "execution_count": 51,
   "metadata": {
    "collapsed": false
   },
   "outputs": [
    {
     "name": "stdout",
     "output_type": "stream",
     "text": [
      "Accuracy =  1.0\n"
     ]
    }
   ],
   "source": [
    "# Evaluation de performance sur donnée de test \n",
    "Dtest = load_files('D:/CORPUS/test/',encoding='utf-8',decode_error='ignore')\n",
    "listtest=[]\n",
    "for data in Dtest.data:\n",
    "    data = remove_diacritics(data)\n",
    "    data = remove_punctuations(data)\n",
    "    listtest.append(data)\n",
    "predicted = text_clf.predict(listtest)\n",
    "print('Accuracy = ',np.mean(predicted == Dtest.target))"
   ]
  },
  {
   "cell_type": "code",
   "execution_count": 52,
   "metadata": {
    "collapsed": false,
    "scrolled": false
   },
   "outputs": [
    {
     "name": "stdout",
     "output_type": "stream",
     "text": [
      "              precision    recall  f1-score   support\n",
      "\n",
      "         ALE       1.00      1.00      1.00         1\n",
      "         ALG       1.00      1.00      1.00         1\n",
      "         ALX       1.00      1.00      1.00         1\n",
      "         AMM       1.00      1.00      1.00         1\n",
      "         ASW       1.00      1.00      1.00         1\n",
      "         BAG       1.00      1.00      1.00         1\n",
      "         BAS       1.00      1.00      1.00         1\n",
      "         BEI       1.00      1.00      1.00         1\n",
      "         BEN       1.00      1.00      1.00         1\n",
      "         CAI       1.00      1.00      1.00         1\n",
      "         DAM       1.00      1.00      1.00         1\n",
      "         DOH       1.00      1.00      1.00         1\n",
      "         FES       1.00      1.00      1.00         1\n",
      "         JED       1.00      1.00      1.00         1\n",
      "         JER       1.00      1.00      1.00         1\n",
      "         KHA       1.00      1.00      1.00         1\n",
      "         MOS       1.00      1.00      1.00         1\n",
      "         MSA       1.00      1.00      1.00         1\n",
      "         MUS       1.00      1.00      1.00         1\n",
      "         RAB       1.00      1.00      1.00         1\n",
      "         RIY       1.00      1.00      1.00         1\n",
      "         SAL       1.00      1.00      1.00         1\n",
      "         SAN       1.00      1.00      1.00         1\n",
      "         SFX       1.00      1.00      1.00         1\n",
      "         TRI       1.00      1.00      1.00         1\n",
      "         TUN       1.00      1.00      1.00         1\n",
      "\n",
      "   micro avg       1.00      1.00      1.00        26\n",
      "   macro avg       1.00      1.00      1.00        26\n",
      "weighted avg       1.00      1.00      1.00        26\n",
      "\n"
     ]
    }
   ],
   "source": [
    "# Mesure d'evaluation \n",
    "print(metrics.classification_report(Dtest.target, predicted, target_names=Dtest.target_names))\n"
   ]
  },
  {
   "cell_type": "code",
   "execution_count": null,
   "metadata": {
    "collapsed": false
   },
   "outputs": [],
   "source": [
    "\n"
   ]
  },
  {
   "cell_type": "code",
   "execution_count": null,
   "metadata": {
    "collapsed": true
   },
   "outputs": [],
   "source": []
  }
 ],
 "metadata": {
  "kernelspec": {
   "display_name": "Python 3",
   "language": "python",
   "name": "python3"
  },
  "language_info": {
   "codemirror_mode": {
    "name": "ipython",
    "version": 3
   },
   "file_extension": ".py",
   "mimetype": "text/x-python",
   "name": "python",
   "nbconvert_exporter": "python",
   "pygments_lexer": "ipython3",
   "version": "3.6.6"
  }
 },
 "nbformat": 4,
 "nbformat_minor": 2
}
