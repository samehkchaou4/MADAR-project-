{
 "cells": [
  {
   "cell_type": "code",
   "execution_count": 2,
   "metadata": {},
   "outputs": [],
   "source": [
    "# 1ér étape : normalisation des données + division en caractére \n",
    "import os, io , glob, re\n",
    "import tashaphyne ,sys \n",
    "import tashaphyne.arabic_const as arabcons\n",
    "def strip_tashkeel(text): \n",
    "    return tashaphyne.arabic_const.HARAKAT_PAT.sub('', text) \n",
    "def strip_tatweel(text): \n",
    "    return re.sub(tashaphyne.arabic_const.TATWEEL, '', text) \n",
    "def normalize_hamza(text):\n",
    "    text = tashaphyne.arabic_const.ALEFAT_PAT.sub(tashaphyne.arabic_const.ALEF, text) \n",
    "    return tashaphyne.arabic_const.HAMZAT_PAT.sub(tashaphyne.arabic_const.HAMZA, text) \n",
    "def normalize_lamalef(text):\n",
    "    return tashaphyne.arabic_const.LAMALEFAT_PAT.sub(\\\n",
    "                                       u'%s%s'%(tashaphyne.arabic_const.LAM, tashaphyne.arabic_const.ALEF), text) \n",
    "def normalize_spellerrors(text): \n",
    "    text = re.sub(tashaphyne.arabic_const.TEH_MARBUTA,tashaphyne.arabic_const.HEH, text) \n",
    "    return re.sub(tashaphyne.arabic_const.ALEF_MAKSURA,tashaphyne.arabic_const.YEH, text)\n",
    "arabic_punctuations = '''`÷×؛<>_()*&^%][ـ،/:\"؟.,'{}~¦+|!”…“–ـ'''\n",
    "def remove_punctuations(text):\n",
    "    translator = str.maketrans('', '', arabic_punctuations)\n",
    "    return text.translate(translator)\n",
    "#Supprimer les nombres \n",
    "def remove_numbers(text):\n",
    "    regex = re.compile(r\"(\\d|[\\u0660\\u0661\\u0662\\u0663\\u0664\\u0665\\u0666\\u0667\\u0668\\u0669])+\")\n",
    "    return re.sub(regex, ' ', text)\n",
    "def normalize(text): \n",
    "    text = strip_tashkeel(text) \n",
    "    text = strip_tatweel(text) \n",
    "    text = normalize_lamalef(text) \n",
    "    text = normalize_hamza(text) \n",
    "    text = normalize_spellerrors(text) \n",
    "    text = remove_punctuations(text)\n",
    "    text = remove_numbers(text)\n",
    "    return text \n",
    "#print(normalize('أستشتري دمـــي آليه لأبنائك قبل الإغلاق'))\n",
    "for file in glob.glob('/media/sameh/data/CORPUS/LM-corpus/corpus-lm/*'):\n",
    "    content= [ ]\n",
    "    g = io.open(file,'r', encoding='utf-8')\n",
    "    listread = g.read().lower().split()\n",
    "    for i in listread :\n",
    "        i=normalize(i)\n",
    "        content.append(i)\n",
    "    #ajout boucle for i in content i= prétraitemnt(i) est insert dans list content \n",
    "    content = '#'.join(content)\n",
    "    content = ''.join(content)\n",
    "    f=io.open(file+'-char','w', encoding='utf-8')\n",
    "    f.write(' '.join(content) + \"\\n\")\n",
    "    g.close()\n",
    "    f.close()"
   ]
  },
  {
   "cell_type": "code",
   "execution_count": 3,
   "metadata": {},
   "outputs": [
    {
     "name": "stdout",
     "output_type": "stream",
     "text": [
      "['fes-char', 'ben-char', 'doh-char', 'riy-char', 'bag-char', 'tri-char', 'jer-char', 'mos-char', 'ale-char', 'dam-char', 'tun-char', 'bei-char', 'san-char', 'kha-char', 'sfx-char', 'asw-char', 'rab-char', 'sal-char', 'msa-char', 'bas-char', 'alg-char', 'amm-char', 'mus-char', 'cai-char', 'jed-char', 'alx-char']\n"
     ]
    }
   ],
   "source": [
    "# 2ém étape: reverse les contenus des fichiers \n",
    "################\"######## fixer le shéma d 1&r srtie\n",
    "import subprocess\n",
    "corpdir = os.path.dirname(\"/media/sameh/data/CORPUS/LM-corpus/corpus-lm-split/* \")\n",
    "corp = set()\n",
    "for root,dirs,files in os.walk(corpdir):\n",
    "    for file in files:\n",
    "        code = file[:20]\n",
    "        corp.add(code)\n",
    "corp = list(corp)\n",
    "print(corp)\n",
    "##########fixer le shéma des sorties pour voir res \n",
    "#boucle sur les fichiers pour reverser les contenus des fichiers dans des de fichier de sortie \"nomfich\"-rev\n",
    "for code in corp:\n",
    "    cmd = \"rev /media/sameh/data/CORPUS/LM-corpus/corpus-lm-split/\" + code+ \" > /media/sameh/data/CORPUS/LM-corpus/corpus-reverse/\" + code \n",
    "    status = subprocess.call(cmd, shell=True)"
   ]
  },
  {
   "cell_type": "code",
   "execution_count": 4,
   "metadata": {},
   "outputs": [
    {
     "name": "stdout",
     "output_type": "stream",
     "text": [
      "['fes-char', 'ben-char', 'doh-char', 'riy-char', 'bag-char', 'tri-char', 'jer-char', 'mos-char', 'ale-char', 'dam-char', 'tun-char', 'bei-char', 'san-char', 'kha-char', 'sfx-char', 'asw-char', 'rab-char', 'sal-char', 'msa-char', 'bas-char', 'alg-char', 'amm-char', 'mus-char', 'cai-char', 'jed-char', 'alx-char']\n"
     ]
    }
   ],
   "source": [
    "#3 ém étape : création des modéles + binairisation \n",
    "import subprocess, os\n",
    "#met le shéma de sorite d'étape2 pour lire les fichiers reversé \n",
    "corpdir = os.path.dirname(\"/media/sameh/data/CORPUS/LM-corpus/corpus-reverse/* \")\n",
    "corp = set()\n",
    "for root,dirs,files in os.walk(corpdir):\n",
    "    for file in files:\n",
    "        code = file[:20]\n",
    "        corp.add(code)\n",
    "corp = list(corp)\n",
    "print(corp)\n",
    "#########fixer les shémas de shéma de sortie + 1 seul shéma d'entré de corpdir \n",
    "for code in corp:\n",
    "    cmd = \"./kenlm/build/bin/lmplz -o 5 --discount_fallback < /media/sameh/data/CORPUS/LM-corpus/corpus-reverse/\" + code+ \" > /media/sameh/data/CORPUS/LM-corpus/model-lm-reverse/\" + code + \".arpa\"\n",
    "    status = subprocess.call(cmd, shell=True)\n",
    "    cmd = \"./kenlm/build/bin/build_binary /media/sameh/data/CORPUS/LM-corpus/model-lm-reverse/\" + code + \".arpa /media/sameh/data/CORPUS/LM-corpus/model-lm-reverse/\" + code + \".binary\"\n",
    "    status = subprocess.call(cmd, shell=True)"
   ]
  },
  {
   "cell_type": "code",
   "execution_count": null,
   "metadata": {},
   "outputs": [],
   "source": []
  }
 ],
 "metadata": {
  "kernelspec": {
   "display_name": "Python 3",
   "language": "python",
   "name": "python3"
  },
  "language_info": {
   "codemirror_mode": {
    "name": "ipython",
    "version": 3
   },
   "file_extension": ".py",
   "mimetype": "text/x-python",
   "name": "python",
   "nbconvert_exporter": "python",
   "pygments_lexer": "ipython3",
   "version": "3.7.3"
  }
 },
 "nbformat": 4,
 "nbformat_minor": 2
}
