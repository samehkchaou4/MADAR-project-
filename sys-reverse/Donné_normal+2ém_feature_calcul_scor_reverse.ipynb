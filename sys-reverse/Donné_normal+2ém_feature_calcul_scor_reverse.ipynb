{
 "cells": [
  {
   "cell_type": "code",
   "execution_count": 1,
   "metadata": {},
   "outputs": [],
   "source": [
    "from __future__ import print_function\n",
    "import numpy as np\n",
    "from sklearn.base import BaseEstimator, TransformerMixin\n",
    "from sklearn.decomposition import TruncatedSVD\n",
    "from sklearn.feature_extraction import DictVectorizer\n",
    "from sklearn.feature_extraction.text import TfidfVectorizer , CountVectorizer, TfidfTransformer\n",
    "from sklearn.metrics import classification_report\n",
    "from sklearn.pipeline import FeatureUnion\n",
    "from sklearn.pipeline import Pipeline\n",
    "import tashaphyne ,sys , re , os\n",
    "import tashaphyne.arabic_const as arabcons\n",
    "import pandas as pd\n",
    "import kenlm , math, glob \n",
    "\n",
    "#pretraitement des données \n",
    "\n",
    "arabic_diacritics = re.compile(\"\"\"\n",
    "                             ّ    | \n",
    "                             َ    | \n",
    "                             ً    | \n",
    "                             ُ    | \n",
    "                             ٌ    | \n",
    "                             ِ    | \n",
    "                             ٍ    | \n",
    "                             ْ    | \n",
    "                             ـ     \n",
    "                         \"\"\", re.VERBOSE)\n",
    "arabic_punctuations = '''`÷×؛<>_()*&^%][ـ،/:\"؟.,'{}~¦+|!”…“–ـ'''\n",
    "listtrain=[]\n",
    "\n",
    "#supprime les diactritics \n",
    "def remove_diacritics(text):\n",
    "    text = re.sub(arabic_diacritics, '', text)\n",
    "    return text\n",
    "\n",
    "#supprime les signes des ponctuations \n",
    "def remove_punctuations(text):\n",
    "    translator = str.maketrans('', '', arabic_punctuations)\n",
    "    return text.translate(translator)\n",
    "\n",
    "#Supprimer les nombres \n",
    "def remove_numbers(text):\n",
    "    regex = re.compile(r\"(\\d|[\\u0660\\u0661\\u0662\\u0663\\u0664\\u0665\\u0666\\u0667\\u0668\\u0669])+\")\n",
    "    return re.sub(regex, ' ', text)\n",
    "\n",
    "#supprimer les noms non arabe \n",
    "def remove_non_arabic_words(text):\n",
    "    return ' '.join([word for word in text.split() if not re.findall(\n",
    "        r'[^\\s\\u0621\\u0622\\u0623\\u0624\\u0625\\u0626\\u0627\\u0628\\u0629\\u062A\\u062B\\u062C\\u062D\\u062E\\u062F\\u0630\\u0631\\u0632\\u0633\\u0634\\u0635\\u0636\\u0637\\u0638\\u0639\\u063A\\u0640\\u0641\\u0642\\u0643\\u0644\\u0645\\u0646\\u0647\\u0648\\u0649\\u064A]',\n",
    "        word)])\n",
    "\n",
    "def strip_tashkeel(text): \n",
    "    return tashaphyne.arabic_const.HARAKAT_PAT.sub('', text) \n",
    "def strip_tatweel(text): \n",
    "    return re.sub(tashaphyne.arabic_const.TATWEEL, '', text) \n",
    "def normalize_hamza(text):\n",
    "    text = tashaphyne.arabic_const.ALEFAT_PAT.sub(tashaphyne.arabic_const.ALEF, text) \n",
    "    return tashaphyne.arabic_const.HAMZAT_PAT.sub(tashaphyne.arabic_const.HAMZA, text) \n",
    "def normalize_lamalef(text):\n",
    "    return tashaphyne.arabic_const.LAMALEFAT_PAT.sub(\\\n",
    "                                       u'%s%s'%(tashaphyne.arabic_const.LAM, tashaphyne.arabic_const.ALEF), text) \n",
    "def normalize_spellerrors(text): \n",
    "    text = re.sub(tashaphyne.arabic_const.TEH_MARBUTA,tashaphyne.arabic_const.HEH, text) \n",
    "    return re.sub(tashaphyne.arabic_const.ALEF_MAKSURA,tashaphyne.arabic_const.YEH, text)\n",
    "\n",
    "def normalise(text): \n",
    "    text = normalize_spellerrors(text)\n",
    "    text = normalize_lamalef(text)\n",
    "    text = normalize_hamza(text)\n",
    "    text = strip_tashkeel(text)\n",
    "    text = strip_tatweel(text)\n",
    "    return text\n",
    "\n",
    "#recupération des données\n",
    "TRAIN_SET_PATH = \"/media/sameh/data/france/madar_shared_task/MADAR-Shared-Task-Subtask-1/MADAR-Corpus-26-train.txt\"\n",
    "with open(TRAIN_SET_PATH, \"r\", encoding='utf_8') as infile:\n",
    "    X, y = [], []\n",
    "    for line in infile:\n",
    "        text, label  = line.split(\"\\t\")\n",
    "        X.append(text)\n",
    "        y.append(label)\n",
    "data = {'phrase':X,'label':y}\n",
    "df= pd.DataFrame(data)\n",
    "\n",
    "train = list(df['phrase'])\n",
    "for data in train:\n",
    "    data = remove_diacritics(data)\n",
    "    data = remove_punctuations(data)\n",
    "    data = remove_numbers(data)\n",
    "    data = remove_non_arabic_words(data)\n",
    "    listtrain.append(data)\n"
   ]
  },
  {
   "cell_type": "code",
   "execution_count": 2,
   "metadata": {},
   "outputs": [
    {
     "name": "stdout",
     "output_type": "stream",
     "text": [
      "تلمع كيهو\n"
     ]
    },
    {
     "data": {
      "text/plain": [
       "\"\\n# ce bloc est utilisé pour tester les données reversé comme entré \\nlistrev=[]\\nfor i in listtrain :\\n    listrev.append(reversed_string(i))\\ndf['phrase']= listrev\\n\""
      ]
     },
     "execution_count": 2,
     "metadata": {},
     "output_type": "execute_result"
    }
   ],
   "source": [
    "#reverser les données récupérée \n",
    "#définir champ \"step\" sous la forme [start, stop, step] et ne donner aucun champ au début et à la fin, indique par défaut 0 et la longueur de la chaîne, et \" -1 \" indique un début et une fin à la fin. \n",
    "def reversed_string(a_string):\n",
    "    return a_string[::-1]\n",
    "print(reversed_string('وهيك عملت'))\n",
    "\"\"\"\n",
    "# ce bloc est utilisé pour tester les données reversé comme entré \n",
    "listrev=[]\n",
    "for i in listtrain :\n",
    "    listrev.append(reversed_string(i))\n",
    "df['phrase']= listrev\n",
    "\"\"\""
   ]
  },
  {
   "cell_type": "code",
   "execution_count": 5,
   "metadata": {},
   "outputs": [],
   "source": [
    "\n",
    "class TextStats(BaseEstimator, TransformerMixin):\n",
    "    \"\"\"Extract features from each document for DictVectorizer\"\"\"\n",
    "    def fit(self, x, y=None):\n",
    "        return self\n",
    "    \n",
    "    def transform(self, X):\n",
    "        listmodel=[]\n",
    "        listscore = []\n",
    "        for i in list(X['phrase']) :\n",
    "            i = normalise (i)\n",
    "            i = reversed_string(i)\n",
    "            tupleres = scoremodel(i)\n",
    "            listmodel.append(tupleres[0])\n",
    "            listscore.append(tupleres[1])\n",
    "        X['score']=listscore\n",
    "        X['model'] = listmodel\n",
    "        res=[{'score': x[0],'model':x[1]} \n",
    "            for x in X[[ 'score','model']].values]\n",
    "        return res\n",
    "    \n",
    "class ItemSelector(BaseEstimator, TransformerMixin):\n",
    "    def __init__(self, key):\n",
    "        self.key = key\n",
    "    def fit(self, x, y=None):\n",
    "        return self\n",
    "    \n",
    "    def transform(self, data_dict):\n",
    "        return data_dict[self.key]"
   ]
  },
  {
   "cell_type": "code",
   "execution_count": 6,
   "metadata": {},
   "outputs": [
    {
     "name": "stdout",
     "output_type": "stream",
     "text": [
      "(41600, 2)\n"
     ]
    }
   ],
   "source": [
    "# function qui return la meilleur score+ le nom d model \n",
    "corp = ['ale-char', 'asw-char', 'msa-char', 'sal-char', 'jed-char', 'bag-char', 'san-char', 'kha-char', 'rab-char', 'mus-char', 'jer-char', 'bas-char', 'tri-char', 'alg-char', 'riy-char', 'amm-char', 'tun-char', 'fes-char', 'ben-char', 'alx-char', 'sfx-char', 'dam-char', 'bei-char', 'cai-char', 'mos-char', 'doh-char']\n",
    "#modification par medellm reverse\n",
    "def scoremodel(s):\n",
    "    m = list(map(lambda code: kenlm.LanguageModel('/media/sameh/data/CORPUS/LM-corpus/model-lm-reverse/' + code + \".binary\"), corp))\n",
    "\n",
    "    s = ' '.join('#'.join(s.split()))\n",
    "    maxl = ''\n",
    "    maxp =  -sys.maxsize + 1 #minimum integer in python\n",
    "    totalp = 0.0\n",
    "    for j in range(len(m)):\n",
    "        model = m[j]\n",
    "        prob = model.score(s)\n",
    "        totalp += math.pow(10.0, prob)\n",
    "        if(prob > maxp):\n",
    "            maxp = prob\n",
    "            maxl = corp[j]\n",
    "    #if else yetna7aw et round to proba sera dans boucle for pui l'ajout dans liste  \n",
    "    if(totalp==0.0): prob = 0.0\n",
    "    else: prob = math.pow(10.0,maxp)/totalp\n",
    "    #round to thousandths\n",
    "    prob = math.floor(1000*prob)/1000\n",
    "    tupler=(maxl,prob)\n",
    "    return tupler   \n",
    "\"\"\"\n",
    "#ce bloc est utilsé pour l'ajout de score et modéle des phrases des dev comme entré \n",
    "#ajouter au df 2 column pour score et label du model par phrase\n",
    "listscoreph=[ ]\n",
    "listmodelph=[ ]\n",
    "for i in list(df['phrase']):\n",
    "    listscoreph.append(scoremodel(i)[1])\n",
    "    listmodelph.append(scoremodel(i)[0])\n",
    "df['score'] = listscoreph\n",
    "df['model'] = listmodelph\n",
    "\"\"\"\n",
    "print(df.shape)"
   ]
  },
  {
   "cell_type": "code",
   "execution_count": 7,
   "metadata": {},
   "outputs": [
    {
     "data": {
      "text/plain": [
       "Pipeline(memory=None,\n",
       "     steps=[('features', FeatureUnion(n_jobs=None,\n",
       "       transformer_list=[('feature1', Pipeline(memory=None,\n",
       "     steps=[('selector', ItemSelector(key='phrase')), ('tfidf', TfidfVectorizer(analyzer='word', binary=False, decode_error='strict',\n",
       "        dtype=<class 'numpy.float64'>, encoding='utf-8', inp...ansformer_weights=None)), ('clasifier', MultinomialNB(alpha=0.5, class_prior=None, fit_prior=True))])"
      ]
     },
     "execution_count": 7,
     "metadata": {},
     "output_type": "execute_result"
    }
   ],
   "source": [
    "from sklearn.naive_bayes import MultinomialNB\n",
    "import string\n",
    "from nltk.stem import PorterStemmer\n",
    "from nltk import word_tokenize\n",
    "def stemming_tokenizer(text):\n",
    "    stemmer = PorterStemmer()\n",
    "    return [stemmer.stem(w) for w in word_tokenize(text)]\n",
    "pipeline = Pipeline([\n",
    "\n",
    "      ('features', FeatureUnion(\n",
    "           transformer_list =[\n",
    "       ('feature1', Pipeline([\n",
    "                    ('selector', ItemSelector(key='phrase')),\n",
    "                    ('tfidf', TfidfVectorizer(tokenizer=stemming_tokenizer,analyzer='word',ngram_range=(1,1))),\n",
    "        ])),\n",
    "       ('feature2', Pipeline([\n",
    "                    ('stats',TextStats()), \n",
    "                    ('vect', DictVectorizer())\n",
    "       ]))     \n",
    "           ]\n",
    ")),\n",
    "    ('clasifier', MultinomialNB(alpha=0.5,fit_prior=True, class_prior=None)),\n",
    "                 ])\n",
    "\n",
    "pipeline.fit(df, df['label'])"
   ]
  },
  {
   "cell_type": "code",
   "execution_count": 8,
   "metadata": {},
   "outputs": [
    {
     "name": "stdout",
     "output_type": "stream",
     "text": [
      "(5200, 2)\n"
     ]
    }
   ],
   "source": [
    "#chargement des données de dev \n",
    "TRAIN_SET_PATH = \"/media/sameh/data/france/madar_shared_task/MADAR-Shared-Task-Subtask-1/MADAR-Corpus-26-dev.tsv\"\n",
    "with open(TRAIN_SET_PATH, \"r\", encoding='utf_8') as infile:\n",
    "    xt,yt = [],[]\n",
    "    for line in infile:\n",
    "        text, label  = line.split(\"\\t\")\n",
    "        xt.append(text)\n",
    "        yt.append(label)\n",
    "#recupére donée de test dans data frame \n",
    "datatest = {'phrase':xt,'label':yt}\n",
    "dfdev= pd.DataFrame(datatest)\n",
    "#recupérer les phrasees pour prétraitement\n",
    "test = list(dfdev['phrase'])\n",
    "listtest=[]\n",
    "for data in test:\n",
    "    data = remove_diacritics(data)\n",
    "    data = remove_punctuations(data)\n",
    "    data = remove_numbers(data)\n",
    "    data = remove_non_arabic_words(data)\n",
    "    listtest.append(data)\n",
    "#inverser les données prétraité pour l'ajouter dans dataframe de dev   \n",
    "\"\"\"\n",
    "#ce bloc est utilisé pour reverser les données dev comme entré \n",
    "listdevrev=[]\n",
    "for i in listtest :\n",
    "    listdevrev.append(reversed_string(i))\n",
    "dfdev['phrase']= listdevrev\n",
    "\"\"\"\n",
    "#ajouter au df 2 column pour score et label du model par phrase\n",
    "\"\"\"\n",
    "#ce bloc est utilsé pour l'ajout de score et modéle des phrases des dev comme entré \n",
    "listscoredev=[ ]\n",
    "listmodeldev=[ ]\n",
    "for i in list(dfdev['phrase']):\n",
    "    listscoredev.append(scoremodel(i)[1])\n",
    "    listmodeldev.append(scoremodel(i)[0])\n",
    "dfdev['score'] = listscoredev\n",
    "dfdev['model'] = listmodeldev\"\"\"\n",
    "print(dfdev.shape)"
   ]
  },
  {
   "cell_type": "code",
   "execution_count": 9,
   "metadata": {},
   "outputs": [
    {
     "name": "stdout",
     "output_type": "stream",
     "text": [
      "5200\n",
      "Accuracy =  0.8619230769230769\n"
     ]
    }
   ],
   "source": [
    "predicted = pipeline.predict(dfdev)\n",
    "print (len(predicted))\n",
    "print('Accuracy = ',np.mean(predicted == dfdev['label']))"
   ]
  },
  {
   "cell_type": "code",
   "execution_count": 10,
   "metadata": {},
   "outputs": [],
   "source": [
    "#1ér test : test des données reversé par tfidfvectorizer() seul (pour word de 1 à 5 gramme) => tjr résulat ne change pas : 64.27%\n",
    "#j'ai ajoué la normalization des données comme la création des modéles reversé dans la prétraitement pour 2ém test \n",
    "#2ém test : test de l'union des features tfidfvectorizer() + LMs reversé sur données reversés => dimunie de 85.35% à 85.21% \n",
    "#3ém tes : test sur données normal + 2ém feature LMs reversé (fct de calcul score sera appelé dans textstat + l'ajout de reverse de phrase+normalisation)\n",
    "  => resultat de 3ém test: 86.19% \n",
    "#4ém test :test sur données normal + 3ém feature LMs reversé"
   ]
  }
 ],
 "metadata": {
  "kernelspec": {
   "display_name": "Python 3",
   "language": "python",
   "name": "python3"
  },
  "language_info": {
   "codemirror_mode": {
    "name": "ipython",
    "version": 3
   },
   "file_extension": ".py",
   "mimetype": "text/x-python",
   "name": "python",
   "nbconvert_exporter": "python",
   "pygments_lexer": "ipython3",
   "version": "3.7.3"
  }
 },
 "nbformat": 4,
 "nbformat_minor": 2
}
