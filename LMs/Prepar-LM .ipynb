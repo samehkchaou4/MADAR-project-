{
 "cells": [
  {
   "cell_type": "code",
   "execution_count": 1,
   "metadata": {},
   "outputs": [],
   "source": [
    "import os, io , glob, re\n",
    "import tashaphyne ,sys \n",
    "import tashaphyne.arabic_const as arabcons\n",
    "def strip_tashkeel(text): \n",
    "    return tashaphyne.arabic_const.HARAKAT_PAT.sub('', text) \n",
    "def strip_tatweel(text): \n",
    "    return re.sub(tashaphyne.arabic_const.TATWEEL, '', text) \n",
    "def normalize_hamza(text):\n",
    "    text = tashaphyne.arabic_const.ALEFAT_PAT.sub(tashaphyne.arabic_const.ALEF, text) \n",
    "    return tashaphyne.arabic_const.HAMZAT_PAT.sub(tashaphyne.arabic_const.HAMZA, text) \n",
    "def normalize_lamalef(text):\n",
    "    return tashaphyne.arabic_const.LAMALEFAT_PAT.sub(\\\n",
    "                                       u'%s%s'%(tashaphyne.arabic_const.LAM, tashaphyne.arabic_const.ALEF), text) \n",
    "def normalize_spellerrors(text): \n",
    "    text = re.sub(tashaphyne.arabic_const.TEH_MARBUTA,tashaphyne.arabic_const.HEH, text) \n",
    "    return re.sub(tashaphyne.arabic_const.ALEF_MAKSURA,tashaphyne.arabic_const.YEH, text)\n",
    "\n",
    "def normalize(text): \n",
    "    text = strip_tashkeel(text) \n",
    "    text = strip_tatweel(text) \n",
    "    text = normalize_lamalef(text) \n",
    "    text = normalize_hamza(text) \n",
    "    text = normalize_spellerrors(text) \n",
    "    return text \n",
    "#print(normalize('أستشتري دمـــي آليه لأبنائك قبل الإغلاق'))\n",
    "for file in glob.glob('/home/sameh/corpus-lm/*'):\n",
    "    content= [ ]\n",
    "    g = io.open(file,'r', encoding='utf-8')\n",
    "    listread = g.read().lower().split()\n",
    "    for i in listread :\n",
    "        i=normalize(i)\n",
    "        content.append(i)\n",
    "    #ajout boucle for i in content i= prétraitemnt(i) est insert dans list content \n",
    "    content = '#'.join(content)\n",
    "    content = ''.join(content)\n",
    "    f=io.open(file+'-char','w', encoding='utf-8')\n",
    "    f.write(' '.join(content) + \"\\n\")\n",
    "    g.close()\n",
    "    f.close()"
   ]
  },
  {
   "cell_type": "code",
   "execution_count": 1,
   "metadata": {},
   "outputs": [
    {
     "name": "stdout",
     "output_type": "stream",
     "text": [
      "riy-char\n",
      "['ale-char', 'asw-char', 'msa-char', 'sal-char', 'jed-char', 'bag-char', 'san-char', 'kha-char', 'rab-char', 'mus-char', 'jer-char', 'bas-char', 'tri-char', 'alg-char', 'riy-char', 'amm-char', 'tun-char', 'fes-char', 'ben-char', 'alx-char', 'sfx-char', 'dam-char', 'bei-char', 'cai-char', 'mos-char', 'doh-char']\n"
     ]
    }
   ],
   "source": [
    "import subprocess, os\n",
    "\n",
    "corpdir = os.path.dirname(\"/home/sameh/corpus-lm/split/* \")\n",
    "\n",
    "corp = set()\n",
    "#############################code a remplacer par length de nom fichier \n",
    "for root,dirs,files in os.walk(corpdir):\n",
    "    for file in files:\n",
    "        code = file[:20]\n",
    "        corp.add(code)\n",
    "print(code)\n",
    "\n",
    "corp = list(corp)\n",
    "print(corp)\n",
    "#for each file in '/corpus', create 5-gram character model, store as .arpa\n",
    "#and then store as .binary for lightning-fast reading\n",
    "\n",
    "for code in corp:\n",
    "    cmd = \"./kenlm/build/bin/lmplz -o 5 --discount_fallback < /home/sameh/corpus-lm/split/\" + code+ \" > /media/sameh/data/CORPUS/LM-corpus/modelm/\" + code + \".arpa\"\n",
    "    status = subprocess.call(cmd, shell=True)\n",
    "    cmd = \"./kenlm/build/bin/build_binary /media/sameh/data/CORPUS/LM-corpus/modelm/\" + code + \".arpa /media/sameh/data/CORPUS/LM-corpus/modelm/\" + code + \".binary\"\n",
    "    status = subprocess.call(cmd, shell=True)"
   ]
  },
  {
   "cell_type": "code",
   "execution_count": null,
   "metadata": {},
   "outputs": [],
   "source": []
  }
 ],
 "metadata": {
  "kernelspec": {
   "display_name": "Python 3",
   "language": "python",
   "name": "python3"
  },
  "language_info": {
   "codemirror_mode": {
    "name": "ipython",
    "version": 3
   },
   "file_extension": ".py",
   "mimetype": "text/x-python",
   "name": "python",
   "nbconvert_exporter": "python",
   "pygments_lexer": "ipython3",
   "version": "3.7.3"
  }
 },
 "nbformat": 4,
 "nbformat_minor": 2
}
