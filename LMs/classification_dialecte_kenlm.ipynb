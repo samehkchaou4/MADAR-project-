{
 "cells": [
  {
   "cell_type": "code",
   "execution_count": 1,
   "metadata": {},
   "outputs": [],
   "source": [
    "from __future__ import print_function\n",
    "import numpy as np\n",
    "from sklearn.base import BaseEstimator, TransformerMixin\n",
    "from sklearn.decomposition import TruncatedSVD\n",
    "from sklearn.feature_extraction import DictVectorizer\n",
    "from sklearn.feature_extraction.text import TfidfVectorizer , CountVectorizer, TfidfTransformer\n",
    "from sklearn.metrics import classification_report\n",
    "from sklearn.pipeline import FeatureUnion\n",
    "from sklearn.pipeline import Pipeline"
   ]
  },
  {
   "cell_type": "code",
   "execution_count": 2,
   "metadata": {},
   "outputs": [],
   "source": [
    "#recupération des données\n",
    "TRAIN_SET_PATH = \"/media/sameh/data/france/madar_shared_task/MADAR-Shared-Task-Subtask-1/MADAR-Corpus-26-train.txt\"\n",
    "import pandas as pd\n",
    "\n",
    "with open(TRAIN_SET_PATH, \"r\", encoding='utf_8') as infile:\n",
    "    X, y = [], []\n",
    "    for line in infile:\n",
    "        text, label  = line.split(\"\\t\")\n",
    "        X.append(text)\n",
    "        y.append(label)\n",
    "data = {'phrase':X,'label':y}\n",
    "df= pd.DataFrame(data)\n"
   ]
  },
  {
   "cell_type": "code",
   "execution_count": 3,
   "metadata": {},
   "outputs": [],
   "source": [
    "#pretraitement des données \n",
    "import re \n",
    "arabic_diacritics = re.compile(\"\"\"\n",
    "                             ّ    | \n",
    "                             َ    | \n",
    "                             ً    | \n",
    "                             ُ    | \n",
    "                             ٌ    | \n",
    "                             ِ    | \n",
    "                             ٍ    | \n",
    "                             ْ    | \n",
    "                             ـ     \n",
    "                         \"\"\", re.VERBOSE)\n",
    "arabic_punctuations = '''`÷×؛<>_()*&^%][ـ،/:\"؟.,'{}~¦+|!”…“–ـ'''\n",
    "listtrain=[]\n",
    "#supprime les diactritics \n",
    "def remove_diacritics(text):\n",
    "    text = re.sub(arabic_diacritics, '', text)\n",
    "    return text\n",
    "#supprime les signes des ponctuations \n",
    "def remove_punctuations(text):\n",
    "    translator = str.maketrans('', '', arabic_punctuations)\n",
    "    return text.translate(translator)\n",
    "#Supprimer les nombres \n",
    "def remove_numbers(text):\n",
    "    regex = re.compile(r\"(\\d|[\\u0660\\u0661\\u0662\\u0663\\u0664\\u0665\\u0666\\u0667\\u0668\\u0669])+\")\n",
    "    return re.sub(regex, ' ', text)\n",
    "#supprimer les noms non arabe \n",
    "def remove_non_arabic_words(text):\n",
    "    return ' '.join([word for word in text.split() if not re.findall(\n",
    "        r'[^\\s\\u0621\\u0622\\u0623\\u0624\\u0625\\u0626\\u0627\\u0628\\u0629\\u062A\\u062B\\u062C\\u062D\\u062E\\u062F\\u0630\\u0631\\u0632\\u0633\\u0634\\u0635\\u0636\\u0637\\u0638\\u0639\\u063A\\u0640\\u0641\\u0642\\u0643\\u0644\\u0645\\u0646\\u0647\\u0648\\u0649\\u064A]',\n",
    "        word)])\n",
    "train = list(df['phrase'])\n",
    "for data in train:\n",
    "    data = remove_diacritics(data)\n",
    "    data = remove_punctuations(data)\n",
    "    data = remove_numbers(data)\n",
    "    data = remove_non_arabic_words(data)\n",
    "    listtrain.append(data)\n"
   ]
  },
  {
   "cell_type": "code",
   "execution_count": 4,
   "metadata": {},
   "outputs": [],
   "source": [
    "df['phrase']= listtrain"
   ]
  },
  {
   "cell_type": "code",
   "execution_count": 5,
   "metadata": {},
   "outputs": [
    {
     "data": {
      "text/plain": [
       "Pipeline(memory=None,\n",
       "     steps=[('vect', CountVectorizer(analyzer='word', binary=False, decode_error='strict',\n",
       "        dtype=<class 'numpy.int64'>, encoding='utf-8', input='content',\n",
       "        lowercase=True, max_df=1.0, max_features=None, min_df=1,\n",
       "        ngram_range=(1, 1), preprocessor=None, stop_words=None,\n",
       "        strip...inear_tf=False, use_idf=True)), ('clf', MultinomialNB(alpha=0.5, class_prior=None, fit_prior=True))])"
      ]
     },
     "execution_count": 5,
     "metadata": {},
     "output_type": "execute_result"
    }
   ],
   "source": [
    "from sklearn.naive_bayes import MultinomialNB\n",
    "import string\n",
    "from nltk.stem import PorterStemmer\n",
    "from nltk import word_tokenize\n",
    "def stemming_tokenizer(text):\n",
    "    stemmer = PorterStemmer()\n",
    "    return [stemmer.stem(w) for w in word_tokenize(text)]\n",
    "#Pipeline\n",
    "text_clf = Pipeline(memory=None,\n",
    "         steps=[ ('vect', CountVectorizer(tokenizer=stemming_tokenizer,analyzer='word',ngram_range=(1,1))),\n",
    "                     ('tfidf', TfidfTransformer()),\n",
    "                     ('clf', MultinomialNB(alpha=0.5,fit_prior=True, class_prior=None)) ])\n",
    "text_clf.fit(df['phrase'], df['label'])"
   ]
  },
  {
   "cell_type": "code",
   "execution_count": 6,
   "metadata": {},
   "outputs": [
    {
     "name": "stdout",
     "output_type": "stream",
     "text": [
      "5200\n",
      "Accuracy =  0.6426923076923077\n"
     ]
    }
   ],
   "source": [
    "TRAIN_SET_PATH = \"/media/sameh/data/france/madar_shared_task/MADAR-Shared-Task-Subtask-1/MADAR-Corpus-26-dev.tsv\"\n",
    "with open(TRAIN_SET_PATH, \"r\", encoding='utf_8') as infile:\n",
    "    xt,yt = [],[]\n",
    "    for line in infile:\n",
    "        text, label  = line.split(\"\\t\")\n",
    "        xt.append(text)\n",
    "        yt.append(label)\n",
    "#recupére donée de test dans data frame \n",
    "datatest = {'phrase':xt,'label':yt}\n",
    "dftest= pd.DataFrame(datatest)\n",
    "test = list(dftest['phrase'])\n",
    "listtest=[]\n",
    "for data in test:\n",
    "    data = remove_diacritics(data)\n",
    "    data = remove_punctuations(data)\n",
    "    data = remove_numbers(data)\n",
    "    data = remove_non_arabic_words(data)\n",
    "    listtest.append(data)\n",
    "dftest['phrase']= listtest\n",
    "predicted = text_clf.predict(dftest['phrase'])\n",
    "print (len(predicted))\n",
    "print('Accuracy = ',np.mean(predicted == dftest['label']))"
   ]
  },
  {
   "cell_type": "code",
   "execution_count": 7,
   "metadata": {},
   "outputs": [],
   "source": [
    "#function qui return la liste de score de chaque phrase\n",
    "import kenlm , math, glob \n",
    "import os,sys\n",
    "import pandas as pd\n",
    "def language(text):\n",
    "    text = ' '.join('#'.join(text.split()))\n",
    "    listscore=[]\n",
    "    for nommodel in glob.glob('/media/sameh/data/CORPUS/LM-corpus/modelm/*.binary') :\n",
    "        model=kenlm.LanguageModel(nommodel)\n",
    "        prob = math.pow(10,model.score(text))\n",
    "        #prob = math.floor(1000*prob)/1000            \n",
    "        listscore.append(prob)\n",
    "    #print('listscore',len(listscore))\n",
    "    return listscore\n",
    "\n",
    "\n",
    "class TextStats(BaseEstimator, TransformerMixin):\n",
    "    \"\"\"Extract features from each document for DictVectorizer\"\"\"\n",
    "\n",
    "    def fit(self, x, y=None):\n",
    "        return self\n",
    "\n",
    "    def transform(self, X):\n",
    "        res=[{'score': x[0]} \n",
    "            for x in X[[ 'score']].values]\n",
    "        return res\n",
    "\n",
    "class ItemSelector(BaseEstimator, TransformerMixin):\n",
    "\n",
    "    def __init__(self, key):\n",
    "        self.key = key\n",
    "\n",
    "    def fit(self, x, y=None):\n",
    "        return self\n",
    "\n",
    "    def transform(self, data_dict):\n",
    "        return data_dict[self.key]\n",
    "\n",
    "# function qui return la meilleur score+ le nom d model \n",
    "corp = ['ale-char', 'asw-char', 'msa-char', 'sal-char', 'jed-char', 'bag-char', 'san-char', 'kha-char', 'rab-char', 'mus-char', 'jer-char', 'bas-char', 'tri-char', 'alg-char', 'riy-char', 'amm-char', 'tun-char', 'fes-char', 'ben-char', 'alx-char', 'sfx-char', 'dam-char', 'bei-char', 'cai-char', 'mos-char', 'doh-char']\n",
    "#print(models)\n",
    "def scoremodel(s):\n",
    "    m = list(map(lambda code: kenlm.LanguageModel('/media/sameh/data/CORPUS/LM-corpus/modelm/' + code + \".binary\"), corp))\n",
    "\n",
    "    s = ' '.join('#'.join(s.split()))\n",
    "    maxl = ''\n",
    "    maxp =  -sys.maxsize + 1 #minimum integer in python\n",
    "    totalp = 0.0\n",
    "    for j in range(len(m)):\n",
    "        model = m[j]\n",
    "        prob = model.score(s)\n",
    "        totalp += math.pow(10.0, prob)\n",
    "        if(prob > maxp):\n",
    "            maxp = prob\n",
    "            maxl = corp[j]\n",
    "    #if else yetna7aw et round to proba sera dans boucle for pui l'ajout dans liste  \n",
    "    if(totalp==0.0): prob = 0.0\n",
    "    else: prob = math.pow(10.0,maxp)/totalp\n",
    "    #round to thousandths\n",
    "    prob = math.floor(1000*prob)/1000\n",
    "    return maxl       "
   ]
  },
  {
   "cell_type": "code",
   "execution_count": 8,
   "metadata": {},
   "outputs": [
    {
     "name": "stdout",
     "output_type": "stream",
     "text": [
      "(41600, 3)\n"
     ]
    }
   ],
   "source": [
    "#ajouter au df 1 column pour 26 score par phrase\n",
    "listscoreph=[ ]\n",
    "for i in list(df['phrase']):\n",
    "    listscoreph.append(scoremodel(i))\n",
    "df['score'] = listscoreph \n",
    "print(df.shape)"
   ]
  },
  {
   "cell_type": "code",
   "execution_count": 9,
   "metadata": {},
   "outputs": [
    {
     "data": {
      "text/plain": [
       "Pipeline(memory=None,\n",
       "     steps=[('features', FeatureUnion(n_jobs=None,\n",
       "       transformer_list=[('feature1', Pipeline(memory=None,\n",
       "     steps=[('selector', ItemSelector(key='phrase')), ('tfidf', TfidfVectorizer(analyzer='word', binary=False, decode_error='strict',\n",
       "        dtype=<class 'numpy.float64'>, encoding='utf-8', inp...ansformer_weights=None)), ('clasifier', MultinomialNB(alpha=0.5, class_prior=None, fit_prior=True))])"
      ]
     },
     "execution_count": 9,
     "metadata": {},
     "output_type": "execute_result"
    }
   ],
   "source": [
    "\n",
    "pipeline = Pipeline([\n",
    "\n",
    "      ('features', FeatureUnion(\n",
    "           transformer_list =[\n",
    "\n",
    "       ('feature1', Pipeline([\n",
    "                    ('selector', ItemSelector(key='phrase')),\n",
    "('tfidf', TfidfVectorizer(tokenizer=stemming_tokenizer,analyzer='word',ngram_range=(1,1))),\n",
    "        ])),\n",
    "       ('feature2', Pipeline([\n",
    "            ('stats',TextStats()), ('vect', DictVectorizer())\n",
    "\n",
    "       ]))\n",
    "           ]\n",
    ")),\n",
    "\n",
    "    ('clasifier', MultinomialNB(alpha=0.5,fit_prior=True, class_prior=None)),\n",
    "                 ])\n",
    "\n",
    "pipeline.fit(df, df['label'])"
   ]
  },
  {
   "cell_type": "code",
   "execution_count": 10,
   "metadata": {},
   "outputs": [],
   "source": [
    "#pour evaluation \n",
    "listscoretest=[ ]\n",
    "\n",
    "for i in list(dftest['phrase']):\n",
    "    listscoretest.append(scoremodel(i))\n",
    "dftest['score'] = listscoretest\n"
   ]
  },
  {
   "cell_type": "code",
   "execution_count": 11,
   "metadata": {},
   "outputs": [
    {
     "name": "stdout",
     "output_type": "stream",
     "text": [
      "Accuracy =  0.8192307692307692\n",
      "              precision    recall  f1-score   support\n",
      "\n",
      "        ALE\n",
      "       0.81      0.80      0.81       202\n",
      "        ALG\n",
      "       0.91      0.98      0.94       186\n",
      "        ALX\n",
      "       0.68      0.76      0.71       178\n",
      "        AMM\n",
      "       0.74      0.76      0.75       195\n",
      "        ASW\n",
      "       0.81      0.74      0.78       218\n",
      "        BAG\n",
      "       0.83      0.75      0.79       223\n",
      "        BAS\n",
      "       0.82      0.89      0.85       184\n",
      "        BEI\n",
      "       0.82      0.83      0.83       197\n",
      "        BEN\n",
      "       0.80      0.89      0.84       179\n",
      "        CAI\n",
      "       0.72      0.75      0.74       194\n",
      "        DAM\n",
      "       0.67      0.82      0.74       164\n",
      "        DOH\n",
      "       0.83      0.67      0.74       251\n",
      "        FES\n",
      "       0.82      0.89      0.85       186\n",
      "        JED\n",
      "       0.88      0.80      0.84       218\n",
      "        JER\n",
      "       0.77      0.70      0.73       218\n",
      "        KHA\n",
      "       0.85      0.84      0.85       203\n",
      "        MOS\n",
      "       0.91      0.85      0.88       214\n",
      "        MSA\n",
      "       0.86      0.89      0.88       193\n",
      "        MUS\n",
      "       0.82      0.83      0.83       198\n",
      "        RAB\n",
      "       0.94      0.87      0.91       215\n",
      "        RIY\n",
      "       0.78      0.83      0.80       187\n",
      "        SAL\n",
      "       0.67      0.84      0.74       159\n",
      "        SAN\n",
      "       0.87      0.94      0.90       186\n",
      "        SFX\n",
      "       0.93      0.83      0.87       223\n",
      "        TRI\n",
      "       0.90      0.75      0.82       240\n",
      "        TUN\n",
      "       0.86      0.91      0.88       189\n",
      "\n",
      "   micro avg       0.82      0.82      0.82      5200\n",
      "   macro avg       0.82      0.82      0.82      5200\n",
      "weighted avg       0.82      0.82      0.82      5200\n",
      "\n"
     ]
    }
   ],
   "source": [
    "y = pipeline.predict(dftest)\n",
    "print('Accuracy = ',np.mean(y == dftest['label']))\n",
    "print(classification_report(y, dftest['label']))"
   ]
  },
  {
   "cell_type": "code",
   "execution_count": 12,
   "metadata": {},
   "outputs": [],
   "source": [
    "#64.48% par intégration score de chaque phrase comme feature \n",
    "#81.92% par intégration de label de modéle de chaque phrase comme feature \n",
    "#print(dftest)"
   ]
  },
  {
   "cell_type": "code",
   "execution_count": null,
   "metadata": {},
   "outputs": [],
   "source": []
  }
 ],
 "metadata": {
  "kernelspec": {
   "display_name": "Python 3",
   "language": "python",
   "name": "python3"
  },
  "language_info": {
   "codemirror_mode": {
    "name": "ipython",
    "version": 3
   },
   "file_extension": ".py",
   "mimetype": "text/x-python",
   "name": "python",
   "nbconvert_exporter": "python",
   "pygments_lexer": "ipython3",
   "version": "3.7.3"
  }
 },
 "nbformat": 4,
 "nbformat_minor": 2
}
